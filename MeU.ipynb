{
 "cells": [
  {
   "cell_type": "code",
   "execution_count": 67,
   "metadata": {},
   "outputs": [],
   "source": [
    "import requests, re\n",
    "from datetime import datetime\n",
    "import pandas as pd\n",
    "from pathlib import Path\n",
    "from bs4 import BeautifulSoup as bs"
   ]
  },
  {
   "cell_type": "code",
   "execution_count": 70,
   "metadata": {
    "collapsed": true
   },
   "outputs": [],
   "source": [
    "# Retrieve HTML data\n",
    "url = \"http://ke.customer.decent.cz/a022/mon/\"\n",
    "filename = \"meu_data.xlsx\""
   ]
  },
  {
   "cell_type": "markdown",
   "metadata": {},
   "source": [
    "# Scrape website"
   ]
  },
  {
   "cell_type": "code",
   "execution_count": 74,
   "metadata": {},
   "outputs": [
    {
     "data": {
      "text/plain": [
       "<class 'pandas.core.panel.Panel'>\n",
       "Dimensions: 3 (items) x 1 (major_axis) x 11 (minor_axis)\n",
       "Items axis: active_booths to wait_time\n",
       "Major_axis axis: 2017-08-31 18:48:05.462643 to 2017-08-31 18:48:05.462643\n",
       "Minor_axis axis: Žádost o cestovní pas to Evidence vozidel"
      ]
     },
     "execution_count": 74,
     "metadata": {},
     "output_type": "execute_result"
    }
   ],
   "source": [
    "soup = bs(requests.get(url).content, 'html5lib')\n",
    "tables = soup.find_all('table')\n",
    "\n",
    "# # Get and format timestamp from first table.\n",
    "# raw_datetime = tables[2].get_text()\n",
    "# date = re.search(r'(\\d+).(\\d+).(\\d+)', raw_datetime)\n",
    "# time = re.search(r'(\\d+)\\s(\\d+)', raw_datetime)\n",
    "\n",
    "# # Create datetime object from data, not very pretty..\n",
    "# timestamp = datetime.datetime(\n",
    "#     int(date.group(3)),\n",
    "#     int(date.group(2)),\n",
    "#     int(date.group(1)), \n",
    "#     int(time.group(1)),\n",
    "#     int(time.group(2)))\n",
    "\n",
    "timestamp = datetime.now()\n",
    "\n",
    "# Get data and import it into a Pandas DataFrame, format it.\n",
    "raw_data = tables[4]\n",
    "rows = raw_data.find_all('tr')\n",
    "rows = [x.find_all('td') for x in rows]\n",
    "data = [[col.get_text() for col in row] for row in rows]\n",
    "\n",
    "headers = ['activity', 'queue', 'x','active_booths', 'wait_time','x']\n",
    "table = pd.DataFrame( data[1:], columns=headers).set_index('activity')[:11]\n",
    "table = table.drop('x', axis=1)\n",
    "\n",
    "tables = {}\n",
    "\n",
    "for col in table:\n",
    "    tables[col] = pd.DataFrame(table[col].str.extract(\"(\\d+)\", expand=False).fillna('0'))\n",
    "    tables[col].columns = [timestamp]\n",
    "    tables[col] = tables[col].transpose()\n",
    "\n",
    "# Create 3D array with queue, open booths, and wait time.\n",
    "data_current = pd.Panel(tables)\n",
    "data_current"
   ]
  },
  {
   "cell_type": "markdown",
   "metadata": {},
   "source": [
    "# Open saved data"
   ]
  },
  {
   "cell_type": "code",
   "execution_count": 75,
   "metadata": {},
   "outputs": [
    {
     "data": {
      "text/plain": [
       "<class 'pandas.core.panel.Panel'>\n",
       "Dimensions: 3 (items) x 2 (major_axis) x 11 (minor_axis)\n",
       "Items axis: active_booths to wait_time\n",
       "Major_axis axis: 2017-08-31 07:11:00 to 2017-08-31 18:48:05.462643\n",
       "Minor_axis axis: Žádost o cestovní pas to Evidence vozidel"
      ]
     },
     "execution_count": 75,
     "metadata": {},
     "output_type": "execute_result"
    }
   ],
   "source": [
    "data_old = {}\n",
    "\n",
    "# Check if file exists\n",
    "if Path.is_file(Path(filename)):\n",
    "    \n",
    "    \n",
    "    # Load excel, each sheet to separate dataframe and create Panel\n",
    "    excel_data = pd.read_excel(filename, sheetname=None, header=0, index_col=0)\n",
    "    excel_data = pd.Panel(excel_data)\n",
    "\n",
    "    for sheet in excel_data:\n",
    "        data_old[sheet] = excel_data[sheet].append(data_current[sheet])\n",
    "    \n",
    "    data_current = pd.Panel(data_old)\n",
    "\n",
    "data_merged = data_current\n",
    "data_merged"
   ]
  },
  {
   "cell_type": "markdown",
   "metadata": {},
   "source": [
    "# Write data to file"
   ]
  },
  {
   "cell_type": "code",
   "execution_count": 76,
   "metadata": {},
   "outputs": [],
   "source": [
    "data_merged.to_excel(filename)"
   ]
  }
 ],
 "metadata": {
  "kernelspec": {
   "display_name": "Python 3",
   "language": "python",
   "name": "python3"
  },
  "language_info": {
   "codemirror_mode": {
    "name": "ipython",
    "version": 3
   },
   "file_extension": ".py",
   "mimetype": "text/x-python",
   "name": "python",
   "nbconvert_exporter": "python",
   "pygments_lexer": "ipython3",
   "version": "3.6.2"
  }
 },
 "nbformat": 4,
 "nbformat_minor": 2
}
